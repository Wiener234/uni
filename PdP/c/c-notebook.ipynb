{
 "cells": [
  {
   "attachments": {},
   "cell_type": "markdown",
   "metadata": {},
   "source": [
    "# **prinf** formatting\n",
    "----------------------"
   ]
  },
  {
   "cell_type": "code",
   "execution_count": 14,
   "metadata": {
    "vscode": {
     "languageId": "c"
    }
   },
   "outputs": [],
   "source": [
    "#include<stdio.h>\n",
    "\n",
    "int main(){\n",
    "    printf(\"%d\\n\", 1);\n",
    "    printf(\"%5d\\n\", 2);\n",
    "    printf(\"%f\\n\", 3.3);\n",
    "    printf(\"%5.5f\\n\", 3.3);\n",
    "    printf(\"%o\\n\", 16);\n",
    "    printf(\"%x\\n\", 20);\n",
    "    printf(\"%c\\n\", 'y');\n",
    "}"
   ]
  },
  {
   "attachments": {},
   "cell_type": "markdown",
   "metadata": {},
   "source": [
    "# **scanf** formatting\n",
    "----------------------"
   ]
  },
  {
   "cell_type": "code",
   "execution_count": 1,
   "metadata": {
    "vscode": {
     "languageId": "c"
    }
   },
   "outputs": [
    {
     "name": "stderr",
     "output_type": "stream",
     "text": [
      "[C kernel] GCC exited with code 1, the executable will not be executed"
     ]
    }
   ],
   "source": [
    "int n;\n",
    "scanf(\"%d\", &n);"
   ]
  }
 ],
 "metadata": {
  "kernelspec": {
   "display_name": "Wolfram Mathematica",
   "language": "mathematica",
   "name": "wolfram_kernel"
  },
  "language_info": {
   "file_extension": ".c",
   "mimetype": "text/plain",
   "name": "mathematica"
  },
  "orig_nbformat": 4
 },
 "nbformat": 4,
 "nbformat_minor": 2
}
